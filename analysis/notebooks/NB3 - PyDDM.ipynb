{
 "cells": [
  {
   "cell_type": "markdown",
   "metadata": {
    "id": "P_si4Ag7w8pL"
   },
   "source": [
    "# Introduction\n",
    "\n",
    "Takes exploratory data and fits variations of the DDM.\n",
    "\n",
    "DDM: average-signal\n",
    "\n",
    "Details: Take every signal that the subject saw in a trial, and average their values. Feed that into a DDM as a time-invariant signal."
   ]
  },
  {
   "cell_type": "markdown",
   "metadata": {},
   "source": [
    "## Preamble"
   ]
  },
  {
   "cell_type": "code",
   "execution_count": 1,
   "metadata": {
    "colab": {
     "base_uri": "https://localhost:8080/"
    },
    "id": "H25E_vlnuwiK",
    "outputId": "78fdf1bf-2017-40b8-8b89-d5accd094091"
   },
   "outputs": [],
   "source": [
    "# Install (package verification, PyDDM, timer, parallelization)\n",
    "#!pip install paranoid-scientist\n",
    "#!pip install pyddm\n",
    "#!pip install pytictoc  \n",
    "#!pip install pathos  "
   ]
  },
  {
   "cell_type": "code",
   "execution_count": 2,
   "metadata": {},
   "outputs": [],
   "source": [
    "# Libraries\n",
    "import os\n",
    "from pytictoc import TicToc\n",
    "import csv\n",
    "import math\n",
    "import pandas as pd\n",
    "import numpy as np\n",
    "import matplotlib.pyplot as plt\n",
    "import multiprocessing\n",
    "import pyddm as ddm\n",
    "from pyddm import Model, Sample, FitResult, Fittable, Fitted, ICPoint, set_N_cpus\n",
    "from pyddm.models import NoiseConstant, BoundConstant, OverlayChain, OverlayNonDecision, OverlayUniformMixture, LossRobustBIC\n",
    "from pyddm.functions import fit_adjust_model, display_model\n",
    "import pyddm.plot"
   ]
  },
  {
   "cell_type": "code",
   "execution_count": 3,
   "metadata": {},
   "outputs": [],
   "source": [
    "# Directories\n",
    "datadir = \"D:\\\\OneDrive - California Institute of Technology\\\\PhD\\\\Rangel Lab\\\\2023-common-consequence\\\\data\\\\processed_data\"\n",
    "ddmdir = \"D:\\\\OneDrive - California Institute of Technology\\\\PhD\\\\Rangel Lab\\\\2023-common-consequence\\\\analysis\\\\outputs\\\\ddm\""
   ]
  },
  {
   "cell_type": "code",
   "execution_count": 4,
   "metadata": {},
   "outputs": [
    {
     "data": {
      "text/plain": [
       "11"
      ]
     },
     "execution_count": 4,
     "metadata": {},
     "output_type": "execute_result"
    }
   ],
   "source": [
    "# Parallel settings\n",
    "ncpu = multiprocessing.cpu_count()-1 # always save one core\n",
    "ncpu"
   ]
  },
  {
   "cell_type": "markdown",
   "metadata": {},
   "source": [
    "## Import and Clean Raw Data\n",
    "\n",
    "rawdata_in: odd trials used for in-sample data for model fitting.\n",
    "\n",
    "rawdata_out: even trials used for out-sample data for model predictions."
   ]
  },
  {
   "cell_type": "code",
   "execution_count": 5,
   "metadata": {},
   "outputs": [
    {
     "data": {
      "text/html": [
       "<div>\n",
       "<style scoped>\n",
       "    .dataframe tbody tr th:only-of-type {\n",
       "        vertical-align: middle;\n",
       "    }\n",
       "\n",
       "    .dataframe tbody tr th {\n",
       "        vertical-align: top;\n",
       "    }\n",
       "\n",
       "    .dataframe thead th {\n",
       "        text-align: right;\n",
       "    }\n",
       "</style>\n",
       "<table border=\"1\" class=\"dataframe\">\n",
       "  <thead>\n",
       "    <tr style=\"text-align: right;\">\n",
       "      <th></th>\n",
       "      <th>subject</th>\n",
       "      <th>trial</th>\n",
       "      <th>rt</th>\n",
       "      <th>choice</th>\n",
       "      <th>vDiff</th>\n",
       "      <th>vL</th>\n",
       "      <th>vR</th>\n",
       "    </tr>\n",
       "  </thead>\n",
       "  <tbody>\n",
       "    <tr>\n",
       "      <th>0</th>\n",
       "      <td>9156374</td>\n",
       "      <td>1</td>\n",
       "      <td>5.968</td>\n",
       "      <td>0</td>\n",
       "      <td>-2.25</td>\n",
       "      <td>30.00</td>\n",
       "      <td>32.25</td>\n",
       "    </tr>\n",
       "    <tr>\n",
       "      <th>1</th>\n",
       "      <td>9156374</td>\n",
       "      <td>2</td>\n",
       "      <td>3.920</td>\n",
       "      <td>1</td>\n",
       "      <td>3.75</td>\n",
       "      <td>30.00</td>\n",
       "      <td>26.25</td>\n",
       "    </tr>\n",
       "    <tr>\n",
       "      <th>2</th>\n",
       "      <td>9156374</td>\n",
       "      <td>3</td>\n",
       "      <td>4.045</td>\n",
       "      <td>1</td>\n",
       "      <td>5.25</td>\n",
       "      <td>30.00</td>\n",
       "      <td>24.75</td>\n",
       "    </tr>\n",
       "    <tr>\n",
       "      <th>3</th>\n",
       "      <td>9156374</td>\n",
       "      <td>4</td>\n",
       "      <td>4.630</td>\n",
       "      <td>1</td>\n",
       "      <td>-0.75</td>\n",
       "      <td>29.25</td>\n",
       "      <td>30.00</td>\n",
       "    </tr>\n",
       "    <tr>\n",
       "      <th>4</th>\n",
       "      <td>9156374</td>\n",
       "      <td>5</td>\n",
       "      <td>5.052</td>\n",
       "      <td>1</td>\n",
       "      <td>0.00</td>\n",
       "      <td>30.00</td>\n",
       "      <td>30.00</td>\n",
       "    </tr>\n",
       "    <tr>\n",
       "      <th>...</th>\n",
       "      <td>...</td>\n",
       "      <td>...</td>\n",
       "      <td>...</td>\n",
       "      <td>...</td>\n",
       "      <td>...</td>\n",
       "      <td>...</td>\n",
       "      <td>...</td>\n",
       "    </tr>\n",
       "    <tr>\n",
       "      <th>1003</th>\n",
       "      <td>9158535</td>\n",
       "      <td>36</td>\n",
       "      <td>3.026</td>\n",
       "      <td>0</td>\n",
       "      <td>3.75</td>\n",
       "      <td>12.75</td>\n",
       "      <td>9.00</td>\n",
       "    </tr>\n",
       "    <tr>\n",
       "      <th>1004</th>\n",
       "      <td>9158535</td>\n",
       "      <td>37</td>\n",
       "      <td>1.884</td>\n",
       "      <td>0</td>\n",
       "      <td>-0.75</td>\n",
       "      <td>8.25</td>\n",
       "      <td>9.00</td>\n",
       "    </tr>\n",
       "    <tr>\n",
       "      <th>1005</th>\n",
       "      <td>9158535</td>\n",
       "      <td>38</td>\n",
       "      <td>1.970</td>\n",
       "      <td>0</td>\n",
       "      <td>0.00</td>\n",
       "      <td>9.00</td>\n",
       "      <td>9.00</td>\n",
       "    </tr>\n",
       "    <tr>\n",
       "      <th>1006</th>\n",
       "      <td>9158535</td>\n",
       "      <td>39</td>\n",
       "      <td>4.412</td>\n",
       "      <td>1</td>\n",
       "      <td>3.75</td>\n",
       "      <td>9.00</td>\n",
       "      <td>5.25</td>\n",
       "    </tr>\n",
       "    <tr>\n",
       "      <th>1007</th>\n",
       "      <td>9158535</td>\n",
       "      <td>40</td>\n",
       "      <td>3.230</td>\n",
       "      <td>1</td>\n",
       "      <td>-6.00</td>\n",
       "      <td>9.00</td>\n",
       "      <td>15.00</td>\n",
       "    </tr>\n",
       "  </tbody>\n",
       "</table>\n",
       "<p>1008 rows × 7 columns</p>\n",
       "</div>"
      ],
      "text/plain": [
       "      subject  trial     rt  choice  vDiff     vL     vR\n",
       "0     9156374      1  5.968       0  -2.25  30.00  32.25\n",
       "1     9156374      2  3.920       1   3.75  30.00  26.25\n",
       "2     9156374      3  4.045       1   5.25  30.00  24.75\n",
       "3     9156374      4  4.630       1  -0.75  29.25  30.00\n",
       "4     9156374      5  5.052       1   0.00  30.00  30.00\n",
       "...       ...    ...    ...     ...    ...    ...    ...\n",
       "1003  9158535     36  3.026       0   3.75  12.75   9.00\n",
       "1004  9158535     37  1.884       0  -0.75   8.25   9.00\n",
       "1005  9158535     38  1.970       0   0.00   9.00   9.00\n",
       "1006  9158535     39  4.412       1   3.75   9.00   5.25\n",
       "1007  9158535     40  3.230       1  -6.00   9.00  15.00\n",
       "\n",
       "[1008 rows x 7 columns]"
      ]
     },
     "execution_count": 5,
     "metadata": {},
     "output_type": "execute_result"
    }
   ],
   "source": [
    "# Import\n",
    "rawdata = pd.read_csv(datadir+\"\\\\pilotdata.csv\")\n",
    "\n",
    "# Rename variables\n",
    "data = rawdata.rename(columns={\n",
    "    \"Participant.Private.ID\":\"subject\", \n",
    "    \"Trial.Number\":\"trial\",\n",
    "    \"Reaction.Time\":\"rt\",\n",
    "    \"Response\":\"choice\",\n",
    "})\n",
    "\n",
    "# RT in s.\n",
    "data.rt = data.rt/1000\n",
    "\n",
    "# Expected value of left vs right.\n",
    "data['vL'] = data.L1H*data.L1PrH + data.L1M*data.L1PrM + data.L1L*data.L1PrL\n",
    "data['vR'] = data.L2H*data.L2PrH + data.L2M*data.L2PrM + data.L2L*data.L2PrL\n",
    "\n",
    "# Expected value difference (L-R)\n",
    "data['vDiff'] = np.round(data.vL - data.vR,2)\n",
    "\n",
    "\n",
    "# Only keep the variables of interest\n",
    "voi = ['subject','trial','rt','choice','vDiff','vL','vR']\n",
    "data = data[voi]\n",
    "\n",
    "# Ceiling of Maximum RT for PyDDM\n",
    "maxRT = math.ceil(max(data.rt))\n",
    "\n",
    "# Save & display\n",
    "\n",
    "data"
   ]
  },
  {
   "cell_type": "markdown",
   "metadata": {},
   "source": [
    "---\n",
    "# DDM: Condition Invariant"
   ]
  },
  {
   "cell_type": "markdown",
   "metadata": {},
   "source": [
    "## Fit the average stimulus DDM"
   ]
  },
  {
   "cell_type": "code",
   "execution_count": 6,
   "metadata": {},
   "outputs": [],
   "source": [
    "# Create a drift subclass so drift can vary with stimulus.\n",
    "class DriftRate(ddm.models.Drift):\n",
    "  name = \"Drift depends linearly on value difference\"\n",
    "  required_parameters = [\"driftrate\"] # Parameters we want to include in the model.\n",
    "  required_conditions = [\"vDiff\"] # The column in your sample data that modulates the parameters above.\n",
    "  def get_drift(self, conditions, **kwargs):\n",
    "    return self.driftrate * conditions[\"vDiff\"]\n",
    "\n",
    "# Define the model.\n",
    "model_ci = Model(name=\"Standard DDM that does not distinguish between AB and A'B' choices\",\n",
    "                 drift=DriftRate(driftrate=Fittable(minval=-1, maxval=1.5)),\n",
    "                 noise=NoiseConstant(noise=Fittable(minval=.001, maxval=2)),\n",
    "                 bound=BoundConstant(B=1),\n",
    "                 IC=ICPoint(x0=Fittable(minval=-.99, maxval=.99)),\n",
    "                 overlay=OverlayNonDecision(nondectime=Fittable(minval=0, maxval=.1)),\n",
    "                 dx=.01, dt=.01, T_dur=maxRT,  # dx: spatial grid for evidence space (-B to B, in dx bins), dt: time step in s. See Shin et al 2022 Fig 4 for why I set dx=dt.\n",
    "                 choice_names=(\"Left\",\"Right\"))"
   ]
  },
  {
   "cell_type": "code",
   "execution_count": 7,
   "metadata": {},
   "outputs": [
    {
     "data": {
      "application/vnd.jupyter.widget-view+json": {
       "model_id": "bdffe4fcb64c4ad59270264d00852f86",
       "version_major": 2,
       "version_minor": 0
      },
      "text/plain": [
       "HBox(children=(VBox(children=(FloatSlider(value=-0.6775808966042398, continuous_update=False, description='dri…"
      ]
     },
     "metadata": {},
     "output_type": "display_data"
    },
    {
     "data": {
      "application/vnd.jupyter.widget-view+json": {
       "model_id": "a3291067be2b40009b7917638471aa1a",
       "version_major": 2,
       "version_minor": 0
      },
      "text/plain": [
       "Output()"
      ]
     },
     "metadata": {},
     "output_type": "display_data"
    }
   ],
   "source": [
    "# Interactive plot! Play with the variables!\n",
    "vDiff = np.sort(data.vDiff.unique())\n",
    "pyddm.plot.model_gui_jupyter(model=model_ci, conditions={\"vDiff\":vDiff.tolist()})"
   ]
  },
  {
   "cell_type": "code",
   "execution_count": null,
   "metadata": {},
   "outputs": [
    {
     "name": "stdout",
     "output_type": "stream",
     "text": [
      "DDM: Condition Invariant.\n",
      "============================================================================\n",
      "Subject 9156374\n"
     ]
    }
   ],
   "source": [
    "# Only run this if specified at the start. Otherwise, just load pre-saved weights.\n",
    "print(\"DDM: Condition Invariant.\")\n",
    "\n",
    "# Iterate through subjects.\n",
    "subnums = np.sort(data.subject.unique())\n",
    "for subnum in subnums:\n",
    "\n",
    "    # Progress tracker.\n",
    "    print(\"============================================================================\")\n",
    "    print(\"Subject \" + str(subnum))\n",
    "\n",
    "    # Subset the data.\n",
    "    subdata = data[data[\"subject\"]==subnum]\n",
    "\n",
    "    # Create a sample object from our data. Sample objects are the standard input for pyDDM fitting functions.\n",
    "    ddm_data = Sample.from_pandas_dataframe(subdata, rt_column_name=\"rt\", choice_column_name=\"choice\", choice_names=(\"Left\",\"Right\"))\n",
    "\n",
    "    # Fit the model and show it off. Keep track of how long it took to estimate the parameters.\n",
    "    clock = TicToc() # Timer\n",
    "    clock.tic()\n",
    "    set_N_cpus(ncpu) # Parallelize\n",
    "    fit_model_ci = fit_adjust_model(sample=ddm_data, model=model_ci,\n",
    "                                    fitting_method=\"differential_evolution\",\n",
    "                                    lossfunction=LossRobustBIC,\n",
    "                                    verbose=False)\n",
    "    clock.toc(\"Fitting subject \" + str(subnum) + \" took\")\n",
    "    display_model(fit_model_ci)\n",
    "\n",
    "    # Save\n",
    "    filename = ddmdir + \"fit_model_ci_\" + str(subnum) + \".txt\"\n",
    "    with open(filename, \"w\") as f:\n",
    "      f.write(repr(fit_model_ci))"
   ]
  },
  {
   "cell_type": "markdown",
   "metadata": {},
   "source": [
    "## Extract parameters and negative log likelihood for the model objects"
   ]
  },
  {
   "cell_type": "code",
   "execution_count": null,
   "metadata": {},
   "outputs": [],
   "source": [
    "# Placeholders\n",
    "model_as_bic = []\n",
    "model_as_drift = []\n",
    "model_as_noise = []\n",
    "model_as_bias = []\n",
    "model_as_ndt = []\n",
    "\n",
    "# Iterate through subjects.\n",
    "subnums = np.sort(data.subject.unique())\n",
    "for subnum in subnums:\n",
    "    \n",
    "    # Load\n",
    "    filename = tempdir + \"fit_model_as_\" + str(subnum) + \".txt\"\n",
    "    with open(filename, \"r\") as f:\n",
    "        model_loaded = eval(f.read())\n",
    "\n",
    "    # Negative Log Likelihood.\n",
    "    model_as_bic.append(model_loaded.get_fit_result().value())\n",
    "    \n",
    "    # Fitted parameters.\n",
    "    model_as_drift.append(model_loaded.parameters()['drift']['driftstim'])\n",
    "    model_as_noise.append(model_loaded.parameters()['noise']['noise'])\n",
    "    model_as_bias.append(model_loaded.parameters()['IC']['x0'])\n",
    "    model_as_ndt.append(model_loaded.parameters()['overlay']['nondectime'])\n",
    "    \n",
    "d = {'bic':model_as_bic, \"drift\":model_as_drift, \"noise\":model_as_noise, \"bias\":model_as_bias, \"ndt\":model_as_ndt}\n",
    "indiv_model_as = pd.DataFrame(data=d)\n",
    "indiv_model_as"
   ]
  },
  {
   "cell_type": "markdown",
   "metadata": {},
   "source": [
    "## Means of BIC and Estimates\n",
    "\n",
    "Confidence intervals assume normal distribution."
   ]
  },
  {
   "cell_type": "code",
   "execution_count": null,
   "metadata": {},
   "outputs": [],
   "source": [
    "summstats_model_as = pd.DataFrame(data={\"mean\":indiv_model_as.mean(), \n",
    "                                        \"se\":indiv_model_as.sem(),\n",
    "                                        \"ci_lower\":indiv_model_as.mean()-1.96*indiv_model_as.sem(),\n",
    "                                        \"ci_upper\":indiv_model_as.mean()+1.96*indiv_model_as.sem()}).T\n",
    "summstats_model_as"
   ]
  }
 ],
 "metadata": {
  "colab": {
   "provenance": []
  },
  "kernelspec": {
   "display_name": "Python 3 (ipykernel)",
   "language": "python",
   "name": "python3"
  },
  "language_info": {
   "codemirror_mode": {
    "name": "ipython",
    "version": 3
   },
   "file_extension": ".py",
   "mimetype": "text/x-python",
   "name": "python",
   "nbconvert_exporter": "python",
   "pygments_lexer": "ipython3",
   "version": "3.9.13"
  }
 },
 "nbformat": 4,
 "nbformat_minor": 1
}
